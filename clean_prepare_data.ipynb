{
 "cells": [
  {
   "cell_type": "code",
   "execution_count": 12,
   "metadata": {},
   "outputs": [
    {
     "name": "stdout",
     "output_type": "stream",
     "text": [
      "3513\n"
     ]
    }
   ],
   "source": [
    "# Load NLP Mental Health Conversations and clean it - format it for \n",
    "import csv\n",
    "import re\n",
    "\n",
    "SYSTEM_PROMPT = \"You are an expert AI psychologist.\"\n",
    "\n",
    "def clean_data(text):\n",
    "    # Regex pattern matches 'http://' or 'https://' followed by non-whitespace characters.\n",
    "    pattern = r'https?://\\S+'\n",
    "    return re.sub(pattern, '', text.replace('\\xa0', ' '))\n",
    "\n",
    "data = []\n",
    "\n",
    "with open(\"data/train.csv\", mode=\"r\", encoding=\"utf-8\") as file:\n",
    "    reader = csv.reader(file)\n",
    "    for index, row in enumerate(reader):\n",
    "        messages = []\n",
    "        messages.append({\n",
    "            'role': 'system',\n",
    "            'content': SYSTEM_PROMPT\n",
    "        })\n",
    "        # adjust data and remove links\n",
    "        messages.append({\n",
    "            'role': 'user',\n",
    "            'content': clean_data(row[0])\n",
    "        })\n",
    "        messages.append({\n",
    "            'role': 'assistant',\n",
    "            'content': clean_data(row[1])\n",
    "        })\n",
    "        \n",
    "        data.append({\n",
    "            'messages': messages\n",
    "        })\n",
    "\n",
    "# for row in data:         \n",
    "#     print(row['messages'][1], '\\n')\n",
    "#     print(row['messages'][2], '\\n')\n",
    "#     print('\\n')\n",
    "\n",
    "print(len(data))"
   ]
  },
  {
   "cell_type": "code",
   "execution_count": null,
   "metadata": {},
   "outputs": [],
   "source": []
  }
 ],
 "metadata": {
  "kernelspec": {
   "display_name": "Python 3",
   "language": "python",
   "name": "python3"
  },
  "language_info": {
   "codemirror_mode": {
    "name": "ipython",
    "version": 3
   },
   "file_extension": ".py",
   "mimetype": "text/x-python",
   "name": "python",
   "nbconvert_exporter": "python",
   "pygments_lexer": "ipython3",
   "version": "3.12.0"
  }
 },
 "nbformat": 4,
 "nbformat_minor": 2
}
